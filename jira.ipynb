{
 "cells": [
  {
   "cell_type": "code",
   "execution_count": null,
   "metadata": {},
   "outputs": [],
   "source": [
    "from dotenv import load_dotenv\n",
    "from jira import JIRA"
   ]
  },
  {
   "cell_type": "code",
   "execution_count": null,
   "metadata": {},
   "outputs": [],
   "source": [
    "load_dotenv()\n",
    "domain = os.getenv('JIRA_DOMAIN')\n",
    "username = os.getenv('JIRA_USERNAME')\n",
    "api_token = os.getenv('JIRA_API_TOKEN')\n",
    "project_key = os.getenv('JIRA_PROJECT_KEY')\n",
    "jira_options = {'server': jira_url}\n",
    "jira = JIRA(options=jira_options, basic_auth=(username, api_token))\n",
    "\n",
    "# project id van Datateam MOSS+\n",
    "project_key = 'DSO'"
   ]
  },
  {
   "cell_type": "code",
   "execution_count": null,
   "metadata": {},
   "outputs": [],
   "source": [
    "# get all members in project with project_key\n",
    "project = jira.project(project_key)"
   ]
  },
  {
   "cell_type": "code",
   "execution_count": null,
   "metadata": {},
   "outputs": [],
   "source": [
    "[user for user in jira.search_assignable_users_for_projects('', project_key) if user.active]"
   ]
  },
  {
   "cell_type": "code",
   "execution_count": null,
   "metadata": {},
   "outputs": [],
   "source": [
    "fields = jira.fields()\n",
    "\n",
    "# Find the story points field\n",
    "for f in fields:\n",
    "    if 'story points' in f['name'].lower():  # Adjust the search term if necessary\n",
    "        print(\"Field Name:\", f['name'])\n",
    "        print(\"Field ID:\", f['id'])\n",
    "        break"
   ]
  },
  {
   "cell_type": "code",
   "execution_count": null,
   "metadata": {},
   "outputs": [],
   "source": [
    "f"
   ]
  },
  {
   "cell_type": "code",
   "execution_count": null,
   "metadata": {},
   "outputs": [],
   "source": [
    "def get_team_members(project):\n",
    "    ''' Get all team members in a project and return a dictionary with key = name and value = accountId \n",
    "    '''\n",
    "    team_members = set()\n",
    "    \n",
    "    # Fetch issues in the project and add assignees to the team_members set\n",
    "    for issue in jira.search_issues(f'project={project.key}', maxResults=1000):\n",
    "        if issue.fields.assignee:\n",
    "            team_members.add(issue.fields.assignee)\n",
    "\n",
    "    # get all team members in dictionary with key = name and value = accountId, also get the role of the team member\n",
    "    team_members_dict = {}\n",
    "    for team_member in team_members:\n",
    "        team_members_dict[team_member.displayName.split(' ')[0]] = team_member.accountId    \n",
    "\n",
    "    return team_members_dict"
   ]
  },
  {
   "cell_type": "code",
   "execution_count": null,
   "metadata": {},
   "outputs": [],
   "source": [
    "team = get_team_members(project)\n",
    "team"
   ]
  },
  {
   "cell_type": "code",
   "execution_count": null,
   "metadata": {},
   "outputs": [],
   "source": [
    "assigned_roles = {\n",
    "    'business_analist': 'Fried',\n",
    "    'informatie_analist': 'Fried',\n",
    "    'data_engineer': 'Fried',\n",
    "    'bi_specialist': 'Fried',\n",
    "}\n",
    "\n",
    "project_input = {\n",
    "    'name': 'Test Dashboard',\n",
    "    'sub_domain': 'S&B', # kies 1 van ['MV', 'ON', 'SUB', 'S&B']\n",
    "    'sub_project': 'TD1',\n",
    "    'description': 'Dit is een test dashboard.',\n",
    "    'year': 2024,\n",
    "    'quarter': 1,\n",
    "    'team_members': assigned_roles\n",
    "}\n",
    "\n",
    "# assert that all names are in the team keys\n",
    "for role in assigned_roles.values():\n",
    "    assert role in team.keys()"
   ]
  },
  {
   "cell_type": "code",
   "execution_count": null,
   "metadata": {},
   "outputs": [],
   "source": [
    "epic_base_title = f\"[Epic {project_input['sub_domain']}_{project_input['sub_project']}_{project_input['year']}]\"\n",
    "feature_base_title = f\"[Feature {project_input['sub_domain']}_{project_input['sub_project']}_{project_input['year']}]\"\n",
    "story_base_title = f\"[{project_input['sub_domain']}_{project_input['sub_project']}_{project_input['year']}]\""
   ]
  },
  {
   "cell_type": "code",
   "execution_count": null,
   "metadata": {},
   "outputs": [],
   "source": [
    "all_issues = []\n",
    "\n",
    "epic_dict = {\n",
    "    'issuetype': {'name': 'Epic'},\n",
    "    'summary': f\"{epic_base_title} {project_input['name']}\",\n",
    "    'description': project_input['description'],\n",
    "    'project': {'key': project_key},\n",
    "    'labels': [project_input['sub_domain'], project_input['sub_project']],\n",
    "    'assignee': {'accountId': team['Fried']},\n",
    "}\n",
    "\n",
    "epic_issue = jira.create_issue(fields=epic_dict)\n",
    "all_issues.append(epic_issue)\n",
    "print(f\"Epic Created: https://{domain}.atlassian.net/browse/{epic_issue.key}\")"
   ]
  },
  {
   "cell_type": "code",
   "execution_count": null,
   "metadata": {},
   "outputs": [],
   "source": [
    "# test feature\n",
    "feature_dict = {\n",
    "    'issuetype': {'name': 'Feature'},\n",
    "    'summary': f\"{feature_base_title} {project_input['name']}\",\n",
    "    'description': project_input['description'],\n",
    "    'project': {'key': project_key},\n",
    "    'labels': [project_input['sub_domain'], project_input['sub_project']],\n",
    "    'assignee': {'accountId': team['Fried']},\n",
    "    'parent': {'key': epic_issue.key},\n",
    "}\n",
    "\n",
    "feature_issue = jira.create_issue(fields=feature_dict)\n",
    "all_issues.append(feature_issue)\n",
    "print(f\"Feature Created: https://{domain}.atlassian.net/browse/{feature_issue.key}\")"
   ]
  },
  {
   "cell_type": "code",
   "execution_count": null,
   "metadata": {},
   "outputs": [],
   "source": [
    "# test story\n",
    "story_dict = {\n",
    "    'issuetype': {'name': 'Story'},\n",
    "    'summary': f\"{story_base_title} {project_input['name']}\",\n",
    "    'description': project_input['description'],\n",
    "    'project': {'key': project_key},\n",
    "    'labels': [project_input['sub_domain'], project_input['sub_project']],\n",
    "    'assignee': {'accountId': team['Fried']},\n",
    "    'parent': {'key': epic_issue.key},\n",
    "}\n",
    "\n",
    "update_dict = {\n",
    "    'customfield_10004': 3,\n",
    "}\n",
    "\n",
    "story_issue = jira.create_issue(fields=story_dict)\n",
    "jira.create_issue_link('Relates', story_issue.key, feature_issue.key)\n",
    "all_issues.append(story_issue)\n",
    "print(f\"Story Created: https://{domain}.atlassian.net/browse/{story_issue.key}\")"
   ]
  },
  {
   "cell_type": "code",
   "execution_count": null,
   "metadata": {},
   "outputs": [],
   "source": [
    "# add story points field to create issue screen\n",
    "jira.add_field_to_create_meta(story_issue.key, 'customfield_10004')"
   ]
  },
  {
   "cell_type": "code",
   "execution_count": null,
   "metadata": {},
   "outputs": [],
   "source": []
  },
  {
   "cell_type": "code",
   "execution_count": null,
   "metadata": {},
   "outputs": [],
   "source": [
    "# delete all issues\n",
    "for issue in all_issues:\n",
    "    issue.delete()"
   ]
  },
  {
   "cell_type": "code",
   "execution_count": null,
   "metadata": {},
   "outputs": [],
   "source": [
    "try:\n",
    "    issue.update(update={'customfield_10004': 2.0})\n",
    "except Exception as e:\n",
    "    print(e)"
   ]
  }
 ],
 "metadata": {
  "kernelspec": {
   "display_name": "Python 3",
   "language": "python",
   "name": "python3"
  },
  "language_info": {
   "codemirror_mode": {
    "name": "ipython",
    "version": 3
   },
   "file_extension": ".py",
   "mimetype": "text/x-python",
   "name": "python",
   "nbconvert_exporter": "python",
   "pygments_lexer": "ipython3",
   "version": "3.12.0"
  }
 },
 "nbformat": 4,
 "nbformat_minor": 2
}
