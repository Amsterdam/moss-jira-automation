{
 "cells": [
  {
   "cell_type": "code",
   "execution_count": 1,
   "metadata": {},
   "outputs": [],
   "source": [
    "from dotenv import load_dotenv\n",
    "from jira import JIRA"
   ]
  },
  {
   "cell_type": "code",
   "execution_count": 2,
   "metadata": {},
   "outputs": [],
   "source": [
    "load_dotenv()\n",
    "domain = os.getenv('JIRA_DOMAIN')\n",
    "username = os.getenv('JIRA_USERNAME')\n",
    "api_token = os.getenv('JIRA_API_TOKEN')\n",
    "project_key = os.getenv('JIRA_PROJECT_KEY')\n",
    "jira_url = f'https://{domain}.atlassian.net'\n",
    "jira_options = {'server': jira_url}\n",
    "jira = JIRA(options=jira_options, basic_auth=(username, api_token))\n",
    "\n",
    "# project id van Datateam MOSS+\n",
    "project_key = 'DSO'"
   ]
  },
  {
   "cell_type": "code",
   "execution_count": 3,
   "metadata": {},
   "outputs": [],
   "source": [
    "# get all members in project with project_key\n",
    "project = jira.project(project_key)"
   ]
  },
  {
   "cell_type": "code",
   "execution_count": 4,
   "metadata": {},
   "outputs": [
    {
     "data": {
      "text/plain": [
       "[<JIRA User: displayName='Alexei  Ivantchik', accountId='615ad6cf7a6be40071e5f138'>,\n",
       " <JIRA User: displayName='Bastiaan  Nota', accountId='712020:87693d57-69a7-4372-b90c-1fd64f1dd867'>,\n",
       " <JIRA User: displayName='Bert  Hulst', accountId='70121:2a3f903e-3678-4736-a74f-cfd3d720097d'>,\n",
       " <JIRA User: displayName='Cees Klomp', accountId='5aead35cba41192e23d883b4'>,\n",
       " <JIRA User: displayName='Claire de Visscher, de', accountId='5ff6d7019edf280075979253'>,\n",
       " <JIRA User: displayName='Cloud Support Prepend', accountId='6332eecb2eaaa5dcfa14887b'>,\n",
       " <JIRA User: displayName='Dave Kleihorst', accountId='5ca33c8f8b98067a17152d74'>,\n",
       " <JIRA User: displayName='Edwin Stol [Prepend]', accountId='557058:19e1f5f5-1c06-4a6d-8da1-62c0d58f1551'>,\n",
       " <JIRA User: displayName='Fried  Scholvinck', accountId='712020:0860a03b-61fc-4e5d-8dc8-b21c141c926f'>,\n",
       " <JIRA User: displayName='Hugo  Rensink', accountId='62e7bfc848e310e67294f188'>,\n",
       " <JIRA User: displayName='Jamal  Zerri', accountId='5ca1cb2b7a6bf9261a41dce6'>,\n",
       " <JIRA User: displayName='Johan  Sap', accountId='631700414fbe9c4bd0eeee86'>,\n",
       " <JIRA User: displayName='Joost  Luirink', accountId='62866190d9ddcc006e9eac96'>,\n",
       " <JIRA User: displayName='Khalid Ben Hammouch, Ben', accountId='6405b6c715d668edd8ef17c3'>,\n",
       " <JIRA User: displayName='Koen  Hallmann', accountId='712020:bc411c66-09c3-4346-83f6-e7d361cd026b'>,\n",
       " <JIRA User: displayName='Kübra  Alaca', accountId='615adaca9cdb9300726a8074'>,\n",
       " <JIRA User: displayName='Marcel  Pienink', accountId='615d733e2f6aed0068b06a30'>,\n",
       " <JIRA User: displayName='Michael  Dufloo', accountId='604739d5ceccdd006a10d9f5'>,\n",
       " <JIRA User: displayName='Miguel  Tolboom', accountId='63d93478c3eb74ad8e952b7d'>,\n",
       " <JIRA User: displayName='Moethoeli  Hooplot', accountId='70121:3c8c8352-9d70-423f-aa88-5111afaf654d'>,\n",
       " <JIRA User: displayName='Nenad  Dordevic', accountId='615adc5172f6970069471723'>,\n",
       " <JIRA User: displayName='Nick  Gigengack', accountId='712020:d37a6bae-9360-486a-9f6b-f7aaa9ec380b'>,\n",
       " <JIRA User: displayName='Paul  Janssen', accountId='62bd5e9bde439ce00ee4beec'>,\n",
       " <JIRA User: displayName='Peter  Verschueren', accountId='615ad8ea07ac3c0068fede31'>,\n",
       " <JIRA User: displayName='Remco  Geesken', accountId='557058:cde08b1e-8d63-4912-b0f3-e1d64b1dc21b'>,\n",
       " <JIRA User: displayName='Remko de Haas, de', accountId='60a655fb391e56006e95c094'>,\n",
       " <JIRA User: displayName='Rob van der Horst, van der', accountId='5f5b4b9ce0d3060076632b9f'>,\n",
       " <JIRA User: displayName='Robbin  Breeuwer', accountId='712020:3df5e74d-a3ad-4183-8620-0c195c971498'>,\n",
       " <JIRA User: displayName='Ron Smeets', accountId='557058:93e8aa36-4204-4045-8ebf-dab85d879d28'>,\n",
       " <JIRA User: displayName='Stefan Krooshof', accountId='5bf282211e6290723bc0180b'>,\n",
       " <JIRA User: displayName='Yirong  Lo', accountId='712020:3160fe4a-e580-42d3-9dda-7a0550a89ce3'>]"
      ]
     },
     "execution_count": 4,
     "metadata": {},
     "output_type": "execute_result"
    }
   ],
   "source": [
    "[user for user in jira.search_assignable_users_for_projects('', project_key) if user.active]"
   ]
  },
  {
   "cell_type": "code",
   "execution_count": 5,
   "metadata": {},
   "outputs": [
    {
     "name": "stdout",
     "output_type": "stream",
     "text": [
      "Field Name: Story Points\n",
      "Field ID: customfield_10004\n"
     ]
    }
   ],
   "source": [
    "fields = jira.fields()\n",
    "\n",
    "# Find the story points field\n",
    "for f in fields:\n",
    "    if 'story points' in f['name'].lower():  # Adjust the search term if necessary\n",
    "        print(\"Field Name:\", f['name'])\n",
    "        print(\"Field ID:\", f['id'])\n",
    "        break"
   ]
  },
  {
   "cell_type": "code",
   "execution_count": 6,
   "metadata": {},
   "outputs": [
    {
     "data": {
      "text/plain": [
       "{'id': 'customfield_10004',\n",
       " 'key': 'customfield_10004',\n",
       " 'name': 'Story Points',\n",
       " 'untranslatedName': 'Story Points',\n",
       " 'custom': True,\n",
       " 'orderable': True,\n",
       " 'navigable': True,\n",
       " 'searchable': True,\n",
       " 'clauseNames': ['cf[10004]', 'Story Points', 'Story Points[Number]'],\n",
       " 'schema': {'type': 'number',\n",
       "  'custom': 'com.atlassian.jira.plugin.system.customfieldtypes:float',\n",
       "  'customId': 10004}}"
      ]
     },
     "execution_count": 6,
     "metadata": {},
     "output_type": "execute_result"
    }
   ],
   "source": [
    "f"
   ]
  },
  {
   "cell_type": "code",
   "execution_count": 7,
   "metadata": {},
   "outputs": [],
   "source": [
    "def get_team_members(project):\n",
    "    ''' Get all team members in a project and return a dictionary with key = name and value = accountId \n",
    "    '''\n",
    "    team_members = set()\n",
    "    \n",
    "    # Fetch issues in the project and add assignees to the team_members set\n",
    "    for issue in jira.search_issues(f'project={project.key}', maxResults=1000):\n",
    "        if issue.fields.assignee:\n",
    "            team_members.add(issue.fields.assignee)\n",
    "\n",
    "    # get all team members in dictionary with key = name and value = accountId, also get the role of the team member\n",
    "    team_members_dict = {}\n",
    "    for team_member in team_members:\n",
    "        team_members_dict[team_member.displayName.split(' ')[0]] = team_member.accountId    \n",
    "\n",
    "    return team_members_dict"
   ]
  },
  {
   "cell_type": "code",
   "execution_count": 8,
   "metadata": {},
   "outputs": [
    {
     "data": {
      "text/plain": [
       "{'Remco': '557058:cde08b1e-8d63-4912-b0f3-e1d64b1dc21b',\n",
       " 'Jamal': '5ca1cb2b7a6bf9261a41dce6',\n",
       " 'Yirong': '712020:3160fe4a-e580-42d3-9dda-7a0550a89ce3',\n",
       " 'Alexei': '615ad6cf7a6be40071e5f138',\n",
       " 'Moethoeli': '70121:3c8c8352-9d70-423f-aa88-5111afaf654d',\n",
       " 'Nick': '712020:d37a6bae-9360-486a-9f6b-f7aaa9ec380b',\n",
       " 'Koen': '712020:bc411c66-09c3-4346-83f6-e7d361cd026b',\n",
       " 'Peter': '615ad8ea07ac3c0068fede31',\n",
       " 'Joost': '62866190d9ddcc006e9eac96',\n",
       " 'Fried': '712020:0860a03b-61fc-4e5d-8dc8-b21c141c926f',\n",
       " 'Robbin': '712020:3df5e74d-a3ad-4183-8620-0c195c971498',\n",
       " 'Khalid': '6405b6c715d668edd8ef17c3',\n",
       " 'Miguel': '63d93478c3eb74ad8e952b7d',\n",
       " 'Bert': '70121:2a3f903e-3678-4736-a74f-cfd3d720097d'}"
      ]
     },
     "execution_count": 8,
     "metadata": {},
     "output_type": "execute_result"
    }
   ],
   "source": [
    "team = get_team_members(project)\n",
    "team"
   ]
  },
  {
   "cell_type": "code",
   "execution_count": 9,
   "metadata": {},
   "outputs": [],
   "source": [
    "assigned_roles = {\n",
    "    'business_analist': 'Fried',\n",
    "    'informatie_analist': 'Fried',\n",
    "    'data_engineer': 'Fried',\n",
    "    'bi_specialist': 'Fried',\n",
    "}\n",
    "\n",
    "project_input = {\n",
    "    'name': 'Test Dashboard',\n",
    "    'sub_domain': 'S&B', # kies 1 van ['MV', 'ON', 'SUB', 'S&B']\n",
    "    'sub_project': 'TD1',\n",
    "    'description': 'Dit is een test dashboard.',\n",
    "    'year': 2024,\n",
    "    'quarter': 1,\n",
    "    'team_members': assigned_roles\n",
    "}\n",
    "\n",
    "# assert that all names are in the team keys\n",
    "for role in assigned_roles.values():\n",
    "    assert role in team.keys()"
   ]
  },
  {
   "cell_type": "code",
   "execution_count": 10,
   "metadata": {},
   "outputs": [],
   "source": [
    "epic_base_title = f\"[Epic {project_input['sub_domain']}_{project_input['sub_project']}_{project_input['year']}]\"\n",
    "feature_base_title = f\"[Feature {project_input['sub_domain']}_{project_input['sub_project']}_{project_input['year']}]\"\n",
    "story_base_title = f\"[{project_input['sub_domain']}_{project_input['sub_project']}_{project_input['year']}]\""
   ]
  },
  {
   "cell_type": "code",
   "execution_count": 12,
   "metadata": {},
   "outputs": [
    {
     "name": "stdout",
     "output_type": "stream",
     "text": [
      "Epic Created: https://gemeente-amsterdam.atlassian.net/browse/DSO-1591\n"
     ]
    }
   ],
   "source": [
    "all_issues = []\n",
    "\n",
    "epic_dict = {\n",
    "    'issuetype': {'name': 'Epic'},\n",
    "    'summary': f\"{epic_base_title} {project_input['name']}\",\n",
    "    'description': project_input['description'],\n",
    "    'project': {'key': project_key},\n",
    "    'labels': [project_input['sub_domain'], project_input['sub_project']],\n",
    "    'assignee': {'accountId': team['Fried']},\n",
    "}\n",
    "\n",
    "epic_issue = jira.create_issue(fields=epic_dict)\n",
    "all_issues.append(epic_issue)\n",
    "print(f\"Epic Created: https://{domain}.atlassian.net/browse/{epic_issue.key}\")"
   ]
  },
  {
   "cell_type": "code",
   "execution_count": 14,
   "metadata": {},
   "outputs": [],
   "source": [
    "epic_issue.update(fields={'customfield_10004': 2})"
   ]
  },
  {
   "cell_type": "code",
   "execution_count": 15,
   "metadata": {},
   "outputs": [
    {
     "name": "stdout",
     "output_type": "stream",
     "text": [
      "Feature Created: https://gemeente-amsterdam.atlassian.net/browse/DSO-1592\n"
     ]
    }
   ],
   "source": [
    "# test feature\n",
    "feature_dict = {\n",
    "    'issuetype': {'name': 'Feature'},\n",
    "    'summary': f\"{feature_base_title} {project_input['name']}\",\n",
    "    'description': project_input['description'],\n",
    "    'project': {'key': project_key},\n",
    "    'labels': [project_input['sub_domain'], project_input['sub_project']],\n",
    "    'assignee': {'accountId': team['Fried']},\n",
    "    'parent': {'key': epic_issue.key},\n",
    "}\n",
    "\n",
    "feature_issue = jira.create_issue(fields=feature_dict)\n",
    "all_issues.append(feature_issue)\n",
    "print(f\"Feature Created: https://{domain}.atlassian.net/browse/{feature_issue.key}\")"
   ]
  },
  {
   "cell_type": "code",
   "execution_count": 23,
   "metadata": {},
   "outputs": [
    {
     "name": "stdout",
     "output_type": "stream",
     "text": [
      "Story Created: https://gemeente-amsterdam.atlassian.net/browse/DSO-1594\n"
     ]
    }
   ],
   "source": [
    "# test story\n",
    "story_dict = {\n",
    "    'issuetype': {'name': 'Story'},\n",
    "    'summary': f\"{story_base_title} {project_input['name']}\",\n",
    "    'description': project_input['description'],\n",
    "    'project': {'key': project_key},\n",
    "    'labels': [project_input['sub_domain'], project_input['sub_project']],\n",
    "    'assignee': {'accountId': team['Fried']},\n",
    "    'parent': {'key': epic_issue.key},\n",
    "    'customfield_10004': 2,\n",
    "}\n",
    "\n",
    "update_dict = {\n",
    "    'customfield_10004': 3,\n",
    "}\n",
    "\n",
    "story_issue = jira.create_issue(fields=story_dict)\n",
    "jira.create_issue_link('Relates', story_issue.key, feature_issue.key)\n",
    "all_issues.append(story_issue)\n",
    "print(f\"Story Created: https://{domain}.atlassian.net/browse/{story_issue.key}\")"
   ]
  },
  {
   "cell_type": "code",
   "execution_count": 22,
   "metadata": {},
   "outputs": [],
   "source": [
    "story_issue.update(fields={'customfield_10004': 5})"
   ]
  },
  {
   "cell_type": "code",
   "execution_count": 24,
   "metadata": {},
   "outputs": [],
   "source": [
    "# delete all issues\n",
    "for issue in all_issues:\n",
    "    issue.delete()"
   ]
  },
  {
   "cell_type": "code",
   "execution_count": null,
   "metadata": {},
   "outputs": [],
   "source": [
    "try:\n",
    "    issue.update(update={'customfield_10004': 2.0})\n",
    "except Exception as e:\n",
    "    print(e)"
   ]
  }
 ],
 "metadata": {
  "kernelspec": {
   "display_name": "Python 3",
   "language": "python",
   "name": "python3"
  },
  "language_info": {
   "codemirror_mode": {
    "name": "ipython",
    "version": 3
   },
   "file_extension": ".py",
   "mimetype": "text/x-python",
   "name": "python",
   "nbconvert_exporter": "python",
   "pygments_lexer": "ipython3",
   "version": "3.12.0"
  }
 },
 "nbformat": 4,
 "nbformat_minor": 2
}
